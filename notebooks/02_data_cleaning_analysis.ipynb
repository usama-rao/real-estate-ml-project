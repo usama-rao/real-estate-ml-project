{
 "cells": [
  {
   "cell_type": "code",
   "execution_count": null,
   "id": "5e5aaf07",
   "metadata": {},
   "outputs": [],
   "source": [
    "import os\n",
    "import sys\n",
    "project_root = os.path.abspath(os.path.join(os.getcwd(), '..'))\n",
    "if project_root not in sys.path:\n",
    "    sys.path.insert(0, project_root)\n"
   ]
  },
  {
   "cell_type": "code",
   "execution_count": 1,
   "id": "25113fa5",
   "metadata": {},
   "outputs": [
    {
     "ename": "ImportError",
     "evalue": "cannot import name 'RealEstateDataCleaner' from 'src.data.clean_data' (c:\\Users\\raoux\\Documents\\Dev\\DS\\real-estate-ml-project\\notebooks\\..\\src\\data\\clean_data.py)",
     "output_type": "error",
     "traceback": [
      "\u001b[31m---------------------------------------------------------------------------\u001b[39m",
      "\u001b[31mImportError\u001b[39m                               Traceback (most recent call last)",
      "\u001b[36mCell\u001b[39m\u001b[36m \u001b[39m\u001b[32mIn[1]\u001b[39m\u001b[32m, line 6\u001b[39m\n\u001b[32m      3\u001b[39m sys.path.append(\u001b[33m'\u001b[39m\u001b[33m../\u001b[39m\u001b[33m'\u001b[39m)\n\u001b[32m      5\u001b[39m \u001b[38;5;66;03m# Import our custom cleaning class\u001b[39;00m\n\u001b[32m----> \u001b[39m\u001b[32m6\u001b[39m \u001b[38;5;28;01mfrom\u001b[39;00m\u001b[38;5;250m \u001b[39m\u001b[34;01msrc\u001b[39;00m\u001b[34;01m.\u001b[39;00m\u001b[34;01mdata\u001b[39;00m\u001b[34;01m.\u001b[39;00m\u001b[34;01mclean_data\u001b[39;00m\u001b[38;5;250m \u001b[39m\u001b[38;5;28;01mimport\u001b[39;00m RealEstateDataCleaner\n\u001b[32m      8\u001b[39m \u001b[38;5;66;03m# Import other libraries for analysis\u001b[39;00m\n\u001b[32m      9\u001b[39m \u001b[38;5;28;01mimport\u001b[39;00m\u001b[38;5;250m \u001b[39m\u001b[34;01mpandas\u001b[39;00m\u001b[38;5;250m \u001b[39m\u001b[38;5;28;01mas\u001b[39;00m\u001b[38;5;250m \u001b[39m\u001b[34;01mpd\u001b[39;00m\n",
      "\u001b[31mImportError\u001b[39m: cannot import name 'RealEstateDataCleaner' from 'src.data.clean_data' (c:\\Users\\raoux\\Documents\\Dev\\DS\\real-estate-ml-project\\notebooks\\..\\src\\data\\clean_data.py)"
     ]
    }
   ],
   "source": [
    "# Add project root to Python path so we can import our module\n",
    "import sys\n",
    "sys.path.append('../')\n",
    "\n",
    "# Import our custom cleaning class\n",
    "from src.data.clean_data import RealEstateDataCleaner\n",
    "\n",
    "# Import other libraries for analysis\n",
    "import pandas as pd\n",
    "import numpy as np\n",
    "import matplotlib.pyplot as plt\n",
    "import seaborn as sns\n",
    "\n",
    "# Set up plotting\n",
    "plt.style.use('default')\n",
    "sns.set_palette(\"husl\")\n",
    "print(\"Libraries imported successfully!\")"
   ]
  },
  {
   "cell_type": "code",
   "execution_count": null,
   "id": "ab41780b",
   "metadata": {},
   "outputs": [],
   "source": [
    "# Create cleaner instance\n",
    "cleaner = RealEstateDataCleaner()\n",
    "\n",
    "# IMPORTANT: UPDATE THIS PATH to your actual data file\n",
    "data_path = \"../data/raw/kc_house_data.csv\"  # CHANGE THIS!\n",
    "\n",
    "# Load your data\n",
    "raw_data = cleaner.load_data(data_path)\n",
    "\n",
    "if raw_data is not None:\n",
    "    print(\"Data loaded successfully!\")\n",
    "    print(\"\\nFirst 5 rows:\")\n",
    "    print(raw_data.head())\n",
    "    print(f\"\\nDataset shape: {raw_data.shape}\")\n",
    "else:\n",
    "    print(\"Failed to load data. Check your file path!\")"
   ]
  },
  {
   "cell_type": "code",
   "execution_count": null,
   "id": "805fea08",
   "metadata": {},
   "outputs": [],
   "source": [
    "# Generate and display comprehensive quality report\n",
    "cleaner.generate_data_quality_report()\n",
    "cleaner.print_data_quality_report()"
   ]
  },
  {
   "cell_type": "code",
   "execution_count": null,
   "id": "8b784023",
   "metadata": {},
   "outputs": [],
   "source": [
    "# Create visualization for missing data\n",
    "if cleaner.cleaning_report['missing_values']:\n",
    "    missing_data = pd.DataFrame.from_dict(\n",
    "        cleaner.cleaning_report['missing_values'], \n",
    "        orient='index', \n",
    "        columns=['Missing_Count']\n",
    "    )\n",
    "    missing_data['Missing_Percentage'] = (\n",
    "        missing_data['Missing_Count'] / cleaner.cleaning_report['total_rows'] * 100\n",
    "    )\n",
    "    \n",
    "    plt.figure(figsize=(12, 6))\n",
    "    missing_data['Missing_Percentage'].plot(kind='bar', color='red', alpha=0.7)\n",
    "    plt.title('Missing Data by Column')\n",
    "    plt.ylabel('Percentage Missing')\n",
    "    plt.xlabel('Columns')\n",
    "    plt.xticks(rotation=45)\n",
    "    plt.tight_layout()\n",
    "    plt.show()\n",
    "    \n",
    "    print(\"Missing Data Summary:\")\n",
    "    print(missing_data)\n",
    "else:\n",
    "    print(\"No missing data found!\")"
   ]
  },
  {
   "cell_type": "code",
   "execution_count": null,
   "id": "afb652ea",
   "metadata": {},
   "outputs": [],
   "source": [
    "# Handle missing values\n",
    "print(\"Step 1: Handling missing values...\")\n",
    "cleaned_data = cleaner.handle_missing_values(strategy='default')\n",
    "print(f\"Data shape after cleaning: {cleaned_data.shape}\")\n",
    "\n",
    "# Remove duplicates\n",
    "print(\"\\nStep 2: Removing duplicates...\")\n",
    "cleaner.remove_duplicates()\n",
    "print(f\"Data shape after removing duplicates: {cleaner.cleaned_data.shape}\")\n",
    "\n",
    "# Check for remaining missing values\n",
    "remaining_missing = cleaner.cleaned_data.isnull().sum()\n",
    "print(\"\\nRemaining missing values:\")\n",
    "print(remaining_missing[remaining_missing > 0])\n",
    "\n",
    "if remaining_missing.sum() == 0:\n",
    "    print(\"✅ All missing values handled successfully!\")"
   ]
  },
  {
   "cell_type": "code",
   "execution_count": null,
   "id": "01d0dd55",
   "metadata": {},
   "outputs": [],
   "source": [
    "# Detect outliers\n",
    "print(\"Step 3: Detecting outliers...\")\n",
    "outliers_info = cleaner.detect_outliers(method='iqr')\n",
    "\n",
    "# Display outlier summary\n",
    "print(\"\\nOUTLIER SUMMARY:\")\n",
    "print(\"-\" * 50)\n",
    "for col, info in outliers_info.items():\n",
    "    print(f\"{col}: {info['count']} outliers ({info['percentage']:.2f}%)\")"
   ]
  },
  {
   "cell_type": "code",
   "execution_count": null,
   "id": "368f405b",
   "metadata": {},
   "outputs": [],
   "source": [
    "# Save the cleaned data\n",
    "output_path = \"../data/processed/cleaned_housing_data.csv\"\n",
    "\n",
    "success = cleaner.save_cleaned_data(output_path)\n",
    "\n",
    "if success:\n",
    "    print(f\"✅ Cleaned data saved to: {output_path}\")\n",
    "    \n",
    "    # Verify saved data\n",
    "    saved_data = pd.read_csv(output_path)\n",
    "    print(f\"Saved data shape: {saved_data.shape}\")\n",
    "    print(f\"Missing values in saved data: {saved_data.isnull().sum().sum()}\")\n",
    "else:\n",
    "    print(\"❌ Failed to save cleaned data\")"
   ]
  },
  {
   "cell_type": "code",
   "execution_count": null,
   "id": "54e39037",
   "metadata": {},
   "outputs": [],
   "source": [
    "# Alternative: Use the complete pipeline method\n",
    "print(\"Testing complete pipeline method...\")\n",
    "\n",
    "# Create new cleaner instance\n",
    "pipeline_cleaner = RealEstateDataCleaner()\n",
    "\n",
    "# IMPORTANT: UPDATE THESE PATHS\n",
    "input_file = \"../data/raw/kc_house_data.csv\"   # CHANGE THIS!\n",
    "output_file = \"../data/processed/pipeline_cleaned_data.csv\"\n",
    "\n",
    "# Run complete pipeline\n",
    "success = pipeline_cleaner.clean_data_pipeline(\n",
    "    input_path=input_file,\n",
    "    output_path=output_file,\n",
    "    missing_strategy='default',\n",
    "    remove_outliers=False\n",
    ")\n",
    "\n",
    "if success:\n",
    "    print(\"✅ Pipeline completed successfully!\")\n",
    "else:\n",
    "    print(\"❌ Pipeline failed!\")"
   ]
  }
 ],
 "metadata": {
  "kernelspec": {
   "display_name": "venv",
   "language": "python",
   "name": "python3"
  },
  "language_info": {
   "codemirror_mode": {
    "name": "ipython",
    "version": 3
   },
   "file_extension": ".py",
   "mimetype": "text/x-python",
   "name": "python",
   "nbconvert_exporter": "python",
   "pygments_lexer": "ipython3",
   "version": "3.11.9"
  }
 },
 "nbformat": 4,
 "nbformat_minor": 5
}
